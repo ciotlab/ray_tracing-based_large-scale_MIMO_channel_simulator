{
 "cells": [
  {
   "cell_type": "code",
   "execution_count": null,
   "id": "initial_id",
   "metadata": {
    "is_executing": true
   },
   "outputs": [],
   "source": [
    "from animation import Animation\n",
    "# bs_name_list = ['bs0', 'bs1', 'bs2', 'bs3', 'bs4', 'bs5', 'bs6', 'bs7']\n",
    "bs_name_list = None\n",
    "#ue_name_list = None\n",
    "ue_name_list = ['ue0']\n",
    "s = Animation(scenario_name='Suwon', simulation_name='sim_1', bs_name_list=bs_name_list, ue_name_list=ue_name_list)\n",
    "s.init_animation(bs_scale=10.0, ue_scale=3.0, ray_linewidth=2.0, max_num_ray_path=1, show_ray_path=True)"
   ]
  },
  {
   "cell_type": "code",
   "execution_count": null,
   "id": "461e0dcd-cd42-4065-830d-fba082673715",
   "metadata": {
    "is_executing": true
   },
   "outputs": [],
   "source": [
    "display(s.renderer)"
   ]
  },
  {
   "cell_type": "code",
   "execution_count": null,
   "id": "fc3ff0f3ff7e1ede",
   "metadata": {
    "collapsed": false,
    "jupyter": {
     "outputs_hidden": false
    },
    "scrolled": true
   },
   "outputs": [],
   "source": [
    "s.animate(start_time=0.0, end_time=300.0, time_step=0.1, sleep_time=0.1)"
   ]
  }
 ],
 "metadata": {
  "kernelspec": {
   "display_name": "Python 3 (ipykernel)",
   "language": "python",
   "name": "python3"
  },
  "language_info": {
   "codemirror_mode": {
    "name": "ipython",
    "version": 3
   },
   "file_extension": ".py",
   "mimetype": "text/x-python",
   "name": "python",
   "nbconvert_exporter": "python",
   "pygments_lexer": "ipython3",
   "version": "3.10.12"
  }
 },
 "nbformat": 4,
 "nbformat_minor": 5
}
